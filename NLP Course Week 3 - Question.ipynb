{
  "nbformat": 4,
  "nbformat_minor": 0,
  "metadata": {
    "colab": {
      "name": "Copy of NLP Course - Week 3 Exercise Question.ipynb",
      "version": "0.3.2",
      "provenance": []
    },
    "kernelspec": {
      "name": "python3",
      "display_name": "Python 3"
    },
    "accelerator": "GPU"
  },
  "cells": [
    {
      "cell_type": "code",
      "metadata": {
        "id": "hmA6EzkQJ5jt",
        "colab_type": "code",
        "colab": {}
      },
      "source": [
        "import json\n",
        "import tensorflow as tf\n",
        "import csv\n",
        "import random\n",
        "import numpy as np\n",
        "\n",
        "from tensorflow.keras.preprocessing.text import Tokenizer\n",
        "from tensorflow.keras.preprocessing.sequence import pad_sequences\n",
        "from tensorflow.keras.utils import to_categorical\n",
        "from tensorflow.keras import regularizers\n",
        "\n",
        "\n",
        "embedding_dim = 100\n",
        "max_length = 16\n",
        "trunc_type='post'\n",
        "padding_type='post'\n",
        "oov_tok = \"<OOV>\"\n",
        "training_size=160000\n",
        "test_portion=.1\n",
        "\n",
        "corpus = []\n"
      ],
      "execution_count": 0,
      "outputs": []
    },
    {
      "cell_type": "code",
      "metadata": {
        "id": "bM0l_dORKqE0",
        "colab_type": "code",
        "outputId": "c142fc4f-c32c-44d0-cc4b-f0dbc3144703",
        "colab": {
          "base_uri": "https://localhost:8080/",
          "height": 204
        }
      },
      "source": [
        "\n",
        "# Note that I cleaned the Stanford dataset to remove LATIN1 encoding to make it easier for Python CSV reader\n",
        "# You can do that yourself with:\n",
        "# iconv -f LATIN1 -t UTF8 training.1600000.processed.noemoticon.csv -o training_cleaned.csv\n",
        "# I then hosted it on my site to make it easier to use in this notebook\n",
        "\n",
        "!wget --no-check-certificate \\\n",
        "    https://storage.googleapis.com/laurencemoroney-blog.appspot.com/training_cleaned.csv \\\n",
        "    -O /tmp/training_cleaned.csv\n",
        "\n",
        "num_sentences = 0\n",
        "\n",
        "with open(\"/tmp/training_cleaned.csv\") as csvfile:\n",
        "    reader = csv.reader(csvfile, delimiter=',')\n",
        "    for row in reader:\n",
        "      # Your Code here. Create list items where the first item is the text, found in row[5], and the second is the label. Note that the label is a '0' or a '4' in the text. When it's the former, make\n",
        "      # your label to be 0, otherwise 1. Keep a count of the number of sentences in num_sentences\n",
        "        list_item=[]\n",
        "        list_item.append(row[5])\n",
        "        label = row[0]\n",
        "        if label == '0':\n",
        "          list_item.append(0)\n",
        "        else:\n",
        "          list_item.append(1)\n",
        "        num_sentences = num_sentences + 1\n",
        "        corpus.append(list_item)\n",
        "\n",
        "\n"
      ],
      "execution_count": 0,
      "outputs": [
        {
          "output_type": "stream",
          "text": [
            "--2019-08-06 22:24:53--  https://storage.googleapis.com/laurencemoroney-blog.appspot.com/training_cleaned.csv\n",
            "Resolving storage.googleapis.com (storage.googleapis.com)... 74.125.203.128, 2404:6800:4008:c03::80\n",
            "Connecting to storage.googleapis.com (storage.googleapis.com)|74.125.203.128|:443... connected.\n",
            "HTTP request sent, awaiting response... 200 OK\n",
            "Length: 238942690 (228M) [application/octet-stream]\n",
            "Saving to: ‘/tmp/training_cleaned.csv’\n",
            "\n",
            "/tmp/training_clean 100%[===================>] 227.87M   101MB/s    in 2.2s    \n",
            "\n",
            "2019-08-06 22:24:56 (101 MB/s) - ‘/tmp/training_cleaned.csv’ saved [238942690/238942690]\n",
            "\n"
          ],
          "name": "stdout"
        }
      ]
    },
    {
      "cell_type": "code",
      "metadata": {
        "id": "3kxblBUjEUX-",
        "colab_type": "code",
        "outputId": "4850ca7c-3f9c-45d8-fdb1-6ce00dfd959e",
        "colab": {
          "base_uri": "https://localhost:8080/",
          "height": 68
        }
      },
      "source": [
        "print(num_sentences)\n",
        "print(len(corpus))\n",
        "print(corpus[1])\n",
        "\n",
        "# Expected Output:\n",
        "# 1600000\n",
        "# 1600000\n",
        "# [\"is upset that he can't update his Facebook by texting it... and might cry as a result  School today also. Blah!\", 0]"
      ],
      "execution_count": 0,
      "outputs": [
        {
          "output_type": "stream",
          "text": [
            "1600000\n",
            "1600000\n",
            "[\"is upset that he can't update his Facebook by texting it... and might cry as a result  School today also. Blah!\", 0]\n"
          ],
          "name": "stdout"
        }
      ]
    },
    {
      "cell_type": "code",
      "metadata": {
        "id": "ohOGz24lsNAD",
        "colab_type": "code",
        "colab": {}
      },
      "source": [
        "sentences=[]\n",
        "labels=[]\n",
        "random.shuffle(corpus)\n",
        "for x in range(training_size):\n",
        "    sentences.append(corpus[x][0])\n",
        "    labels.append(corpus[x][1])\n",
        "\n",
        "\n",
        "tokenizer = Tokenizer()\n",
        "tokenizer.fit_on_texts(sentences)\n",
        "\n",
        "word_index = tokenizer.word_index\n",
        "vocab_size=len(word_index)\n",
        "\n",
        "sequences = tokenizer.texts_to_sequences(sentences)\n",
        "padded = pad_sequences(sequences, maxlen=max_length, padding=padding_type, truncating=trunc_type)\n",
        "\n",
        "split = int(test_portion * training_size)\n",
        "\n",
        "test_sequences = padded[0:split]\n",
        "training_sequences = padded[split:training_size]\n",
        "test_labels = labels[0:split]\n",
        "training_labels = labels[split:training_size]"
      ],
      "execution_count": 0,
      "outputs": []
    },
    {
      "cell_type": "code",
      "metadata": {
        "id": "gIrtRem1En3N",
        "colab_type": "code",
        "outputId": "c34eb7b7-1817-4bb6-f6cd-6098ffa491d4",
        "colab": {
          "base_uri": "https://localhost:8080/",
          "height": 51
        }
      },
      "source": [
        "print(vocab_size)\n",
        "print(word_index['i'])\n",
        "# Expected Output\n",
        "# 138858\n",
        "# 1"
      ],
      "execution_count": 0,
      "outputs": [
        {
          "output_type": "stream",
          "text": [
            "138598\n",
            "1\n"
          ],
          "name": "stdout"
        }
      ]
    },
    {
      "cell_type": "code",
      "metadata": {
        "id": "C1zdgJkusRh0",
        "colab_type": "code",
        "outputId": "a2bdeda7-7973-4740-dd11-6a5fa1c45adf",
        "colab": {
          "base_uri": "https://localhost:8080/",
          "height": 204
        }
      },
      "source": [
        "# Note this is the 100 dimension version of GloVe from Stanford\n",
        "# I unzipped and hosted it on my site to make this notebook easier\n",
        "!wget --no-check-certificate \\\n",
        "    https://storage.googleapis.com/laurencemoroney-blog.appspot.com/glove.6B.100d.txt \\\n",
        "    -O /tmp/glove.6B.100d.txt\n",
        "embeddings_index = {};\n",
        "with open('/tmp/glove.6B.100d.txt') as f:\n",
        "    for line in f:\n",
        "        values = line.split();\n",
        "        word = values[0];\n",
        "        coefs = np.asarray(values[1:], dtype='float32');\n",
        "        embeddings_index[word] = coefs;\n",
        "\n",
        "embeddings_matrix = np.zeros((vocab_size+1, embedding_dim));\n",
        "for word, i in word_index.items():\n",
        "    embedding_vector = embeddings_index.get(word);\n",
        "    if embedding_vector is not None:\n",
        "        embeddings_matrix[i] = embedding_vector;"
      ],
      "execution_count": 0,
      "outputs": [
        {
          "output_type": "stream",
          "text": [
            "--2019-08-06 22:25:54--  https://storage.googleapis.com/laurencemoroney-blog.appspot.com/glove.6B.100d.txt\n",
            "Resolving storage.googleapis.com (storage.googleapis.com)... 64.233.189.128, 2404:6800:4008:c03::80\n",
            "Connecting to storage.googleapis.com (storage.googleapis.com)|64.233.189.128|:443... connected.\n",
            "HTTP request sent, awaiting response... 200 OK\n",
            "Length: 347116733 (331M) [text/plain]\n",
            "Saving to: ‘/tmp/glove.6B.100d.txt’\n",
            "\n",
            "/tmp/glove.6B.100d. 100%[===================>] 331.04M  87.1MB/s    in 3.8s    \n",
            "\n",
            "2019-08-06 22:25:58 (87.1 MB/s) - ‘/tmp/glove.6B.100d.txt’ saved [347116733/347116733]\n",
            "\n"
          ],
          "name": "stdout"
        }
      ]
    },
    {
      "cell_type": "code",
      "metadata": {
        "id": "71NLk_lpFLNt",
        "colab_type": "code",
        "outputId": "c556e941-ba1c-456f-b9f3-404bad0ca76b",
        "colab": {
          "base_uri": "https://localhost:8080/",
          "height": 34
        }
      },
      "source": [
        "print(len(embeddings_matrix))\n",
        "# Expected Output\n",
        "# 138859"
      ],
      "execution_count": 0,
      "outputs": [
        {
          "output_type": "stream",
          "text": [
            "138599\n"
          ],
          "name": "stdout"
        }
      ]
    },
    {
      "cell_type": "code",
      "metadata": {
        "colab_type": "code",
        "id": "iKKvbuEBOGFz",
        "outputId": "5b8d7cd2-bbe0-4268-af73-9eec188d14f4",
        "colab": {
          "base_uri": "https://localhost:8080/",
          "height": 1000
        }
      },
      "source": [
        "model = tf.keras.Sequential([\n",
        "    tf.keras.layers.Embedding(vocab_size+1, embedding_dim, input_length=max_length, weights=[embeddings_matrix], trainable=False),\n",
        "    tf.keras.layers.Dropout(0.2),\n",
        "    tf.keras.layers.Conv1D(64, 5, activation='relu'),\n",
        "    tf.keras.layers.MaxPooling1D(pool_size=4),\n",
        "    tf.keras.layers.LSTM(64),\n",
        "    tf.keras.layers.Dense(1, activation='sigmoid')\n",
        "])\n",
        "model.compile(loss='binary_crossentropy',optimizer='adam',metrics=['accuracy'])\n",
        "model.summary()\n",
        "\n",
        "num_epochs = 50\n",
        "history = model.fit(training_sequences, training_labels, epochs=num_epochs, validation_data=(test_sequences, test_labels), verbose=2)\n",
        "\n",
        "print(\"Training Complete\")\n"
      ],
      "execution_count": 0,
      "outputs": [
        {
          "output_type": "stream",
          "text": [
            "W0806 22:28:46.536849 140536907388800 deprecation.py:323] From /usr/local/lib/python3.6/dist-packages/tensorflow/python/ops/nn_impl.py:180: add_dispatch_support.<locals>.wrapper (from tensorflow.python.ops.array_ops) is deprecated and will be removed in a future version.\n",
            "Instructions for updating:\n",
            "Use tf.where in 2.0, which has the same broadcast rule as np.where\n"
          ],
          "name": "stderr"
        },
        {
          "output_type": "stream",
          "text": [
            "Model: \"sequential_1\"\n",
            "_________________________________________________________________\n",
            "Layer (type)                 Output Shape              Param #   \n",
            "=================================================================\n",
            "embedding_1 (Embedding)      (None, 16, 100)           13859900  \n",
            "_________________________________________________________________\n",
            "dropout_1 (Dropout)          (None, 16, 100)           0         \n",
            "_________________________________________________________________\n",
            "conv1d_1 (Conv1D)            (None, 12, 64)            32064     \n",
            "_________________________________________________________________\n",
            "max_pooling1d_1 (MaxPooling1 (None, 3, 64)             0         \n",
            "_________________________________________________________________\n",
            "lstm_1 (LSTM)                (None, 64)                33024     \n",
            "_________________________________________________________________\n",
            "dense_1 (Dense)              (None, 1)                 65        \n",
            "=================================================================\n",
            "Total params: 13,925,053\n",
            "Trainable params: 65,153\n",
            "Non-trainable params: 13,859,900\n",
            "_________________________________________________________________\n",
            "Train on 144000 samples, validate on 16000 samples\n",
            "Epoch 1/50\n",
            "144000/144000 - 55s - loss: 0.5669 - acc: 0.7012 - val_loss: 0.5290 - val_acc: 0.7341\n",
            "Epoch 2/50\n",
            "144000/144000 - 52s - loss: 0.5281 - acc: 0.7322 - val_loss: 0.5162 - val_acc: 0.7420\n",
            "Epoch 3/50\n",
            "144000/144000 - 52s - loss: 0.5119 - acc: 0.7430 - val_loss: 0.5099 - val_acc: 0.7443\n",
            "Epoch 4/50\n",
            "144000/144000 - 52s - loss: 0.4996 - acc: 0.7519 - val_loss: 0.5083 - val_acc: 0.7448\n",
            "Epoch 5/50\n",
            "144000/144000 - 52s - loss: 0.4913 - acc: 0.7582 - val_loss: 0.5117 - val_acc: 0.7444\n",
            "Epoch 6/50\n",
            "144000/144000 - 52s - loss: 0.4843 - acc: 0.7627 - val_loss: 0.5070 - val_acc: 0.7515\n",
            "Epoch 7/50\n",
            "144000/144000 - 52s - loss: 0.4789 - acc: 0.7658 - val_loss: 0.5109 - val_acc: 0.7498\n",
            "Epoch 8/50\n",
            "144000/144000 - 52s - loss: 0.4743 - acc: 0.7688 - val_loss: 0.5025 - val_acc: 0.7516\n",
            "Epoch 9/50\n",
            "144000/144000 - 52s - loss: 0.4715 - acc: 0.7697 - val_loss: 0.5053 - val_acc: 0.7528\n",
            "Epoch 10/50\n",
            "144000/144000 - 52s - loss: 0.4652 - acc: 0.7750 - val_loss: 0.5092 - val_acc: 0.7546\n",
            "Epoch 11/50\n",
            "144000/144000 - 52s - loss: 0.4612 - acc: 0.7766 - val_loss: 0.5129 - val_acc: 0.7528\n",
            "Epoch 12/50\n",
            "144000/144000 - 52s - loss: 0.4590 - acc: 0.7786 - val_loss: 0.5030 - val_acc: 0.7521\n",
            "Epoch 13/50\n",
            "144000/144000 - 52s - loss: 0.4572 - acc: 0.7802 - val_loss: 0.5135 - val_acc: 0.7524\n",
            "Epoch 14/50\n",
            "144000/144000 - 52s - loss: 0.4545 - acc: 0.7809 - val_loss: 0.5091 - val_acc: 0.7519\n",
            "Epoch 15/50\n",
            "144000/144000 - 52s - loss: 0.4526 - acc: 0.7829 - val_loss: 0.5164 - val_acc: 0.7491\n",
            "Epoch 16/50\n",
            "144000/144000 - 52s - loss: 0.4498 - acc: 0.7836 - val_loss: 0.5139 - val_acc: 0.7524\n",
            "Epoch 17/50\n",
            "144000/144000 - 52s - loss: 0.4489 - acc: 0.7843 - val_loss: 0.5150 - val_acc: 0.7509\n",
            "Epoch 18/50\n",
            "144000/144000 - 52s - loss: 0.4466 - acc: 0.7862 - val_loss: 0.5082 - val_acc: 0.7502\n",
            "Epoch 19/50\n",
            "144000/144000 - 52s - loss: 0.4465 - acc: 0.7859 - val_loss: 0.5129 - val_acc: 0.7523\n",
            "Epoch 20/50\n",
            "144000/144000 - 52s - loss: 0.4439 - acc: 0.7861 - val_loss: 0.5152 - val_acc: 0.7521\n",
            "Epoch 21/50\n",
            "144000/144000 - 52s - loss: 0.4431 - acc: 0.7871 - val_loss: 0.5190 - val_acc: 0.7442\n",
            "Epoch 22/50\n",
            "144000/144000 - 52s - loss: 0.4421 - acc: 0.7890 - val_loss: 0.5111 - val_acc: 0.7537\n",
            "Epoch 23/50\n",
            "144000/144000 - 52s - loss: 0.4407 - acc: 0.7898 - val_loss: 0.5144 - val_acc: 0.7525\n",
            "Epoch 24/50\n",
            "144000/144000 - 52s - loss: 0.4400 - acc: 0.7898 - val_loss: 0.5143 - val_acc: 0.7508\n",
            "Epoch 25/50\n",
            "144000/144000 - 52s - loss: 0.4385 - acc: 0.7917 - val_loss: 0.5152 - val_acc: 0.7487\n",
            "Epoch 26/50\n",
            "144000/144000 - 52s - loss: 0.4369 - acc: 0.7917 - val_loss: 0.5125 - val_acc: 0.7544\n",
            "Epoch 27/50\n",
            "144000/144000 - 52s - loss: 0.4368 - acc: 0.7922 - val_loss: 0.5189 - val_acc: 0.7509\n",
            "Epoch 28/50\n",
            "144000/144000 - 52s - loss: 0.4368 - acc: 0.7919 - val_loss: 0.5235 - val_acc: 0.7502\n",
            "Epoch 29/50\n",
            "144000/144000 - 52s - loss: 0.4378 - acc: 0.7910 - val_loss: 0.5109 - val_acc: 0.7554\n",
            "Epoch 30/50\n",
            "144000/144000 - 52s - loss: 0.4359 - acc: 0.7929 - val_loss: 0.5164 - val_acc: 0.7527\n",
            "Epoch 31/50\n",
            "144000/144000 - 52s - loss: 0.4334 - acc: 0.7936 - val_loss: 0.5200 - val_acc: 0.7488\n",
            "Epoch 32/50\n",
            "144000/144000 - 52s - loss: 0.4335 - acc: 0.7939 - val_loss: 0.5186 - val_acc: 0.7513\n",
            "Epoch 33/50\n",
            "144000/144000 - 52s - loss: 0.4336 - acc: 0.7938 - val_loss: 0.5268 - val_acc: 0.7494\n",
            "Epoch 34/50\n",
            "144000/144000 - 51s - loss: 0.4327 - acc: 0.7936 - val_loss: 0.5214 - val_acc: 0.7496\n",
            "Epoch 35/50\n",
            "144000/144000 - 52s - loss: 0.4339 - acc: 0.7938 - val_loss: 0.5216 - val_acc: 0.7550\n",
            "Epoch 36/50\n",
            "144000/144000 - 52s - loss: 0.4327 - acc: 0.7946 - val_loss: 0.5197 - val_acc: 0.7505\n",
            "Epoch 37/50\n",
            "144000/144000 - 52s - loss: 0.4322 - acc: 0.7942 - val_loss: 0.5175 - val_acc: 0.7514\n",
            "Epoch 38/50\n",
            "144000/144000 - 52s - loss: 0.4315 - acc: 0.7942 - val_loss: 0.5172 - val_acc: 0.7531\n",
            "Epoch 39/50\n",
            "144000/144000 - 52s - loss: 0.4307 - acc: 0.7949 - val_loss: 0.5176 - val_acc: 0.7507\n",
            "Epoch 40/50\n",
            "144000/144000 - 52s - loss: 0.4310 - acc: 0.7947 - val_loss: 0.5192 - val_acc: 0.7510\n",
            "Epoch 41/50\n",
            "144000/144000 - 52s - loss: 0.4291 - acc: 0.7962 - val_loss: 0.5224 - val_acc: 0.7517\n",
            "Epoch 42/50\n",
            "144000/144000 - 52s - loss: 0.4312 - acc: 0.7948 - val_loss: 0.5206 - val_acc: 0.7523\n",
            "Epoch 43/50\n",
            "144000/144000 - 52s - loss: 0.4294 - acc: 0.7960 - val_loss: 0.5262 - val_acc: 0.7483\n",
            "Epoch 44/50\n",
            "144000/144000 - 52s - loss: 0.4310 - acc: 0.7954 - val_loss: 0.5189 - val_acc: 0.7480\n",
            "Epoch 45/50\n",
            "144000/144000 - 52s - loss: 0.4306 - acc: 0.7949 - val_loss: 0.5166 - val_acc: 0.7531\n",
            "Epoch 46/50\n",
            "144000/144000 - 52s - loss: 0.4280 - acc: 0.7975 - val_loss: 0.5154 - val_acc: 0.7509\n",
            "Epoch 47/50\n",
            "144000/144000 - 52s - loss: 0.4292 - acc: 0.7957 - val_loss: 0.5210 - val_acc: 0.7496\n",
            "Epoch 48/50\n",
            "144000/144000 - 52s - loss: 0.4273 - acc: 0.7968 - val_loss: 0.5260 - val_acc: 0.7483\n",
            "Epoch 49/50\n",
            "144000/144000 - 52s - loss: 0.4281 - acc: 0.7974 - val_loss: 0.5213 - val_acc: 0.7487\n",
            "Epoch 50/50\n",
            "144000/144000 - 51s - loss: 0.4294 - acc: 0.7963 - val_loss: 0.5250 - val_acc: 0.7508\n",
            "Training Complete\n"
          ],
          "name": "stdout"
        }
      ]
    },
    {
      "cell_type": "code",
      "metadata": {
        "id": "qxju4ItJKO8F",
        "colab_type": "code",
        "outputId": "12aa293b-939f-43d6-db64-1335e1148089",
        "colab": {
          "base_uri": "https://localhost:8080/",
          "height": 607
        }
      },
      "source": [
        "import matplotlib.image  as mpimg\n",
        "import matplotlib.pyplot as plt\n",
        "\n",
        "#-----------------------------------------------------------\n",
        "# Retrieve a list of list results on training and test data\n",
        "# sets for each training epoch\n",
        "#-----------------------------------------------------------\n",
        "acc=history.history['acc']\n",
        "val_acc=history.history['val_acc']\n",
        "loss=history.history['loss']\n",
        "val_loss=history.history['val_loss']\n",
        "\n",
        "epochs=range(len(acc)) # Get number of epochs\n",
        "\n",
        "#------------------------------------------------\n",
        "# Plot training and validation accuracy per epoch\n",
        "#------------------------------------------------\n",
        "plt.plot(epochs, acc, 'r')\n",
        "plt.plot(epochs, val_acc, 'b')\n",
        "plt.title('Training and validation accuracy')\n",
        "plt.xlabel(\"Epochs\")\n",
        "plt.ylabel(\"Accuracy\")\n",
        "plt.legend([\"Accuracy\", \"Validation Accuracy\"])\n",
        "\n",
        "plt.figure()\n",
        "\n",
        "#------------------------------------------------\n",
        "# Plot training and validation loss per epoch\n",
        "#------------------------------------------------\n",
        "plt.plot(epochs, loss, 'r')\n",
        "plt.plot(epochs, val_loss, 'b')\n",
        "plt.title('Training and validation loss')\n",
        "plt.xlabel(\"Epochs\")\n",
        "plt.ylabel(\"Loss\")\n",
        "plt.legend([\"Loss\", \"Validation Loss\"])\n",
        "\n",
        "plt.figure()\n",
        "\n",
        "\n",
        "# Expected Output\n",
        "# A chart where the validation loss does not increase sharply!"
      ],
      "execution_count": 0,
      "outputs": [
        {
          "output_type": "execute_result",
          "data": {
            "text/plain": [
              "<Figure size 432x288 with 0 Axes>"
            ]
          },
          "metadata": {
            "tags": []
          },
          "execution_count": 10
        },
        {
          "output_type": "display_data",
          "data": {
            "image/png": "[encoded data removed]",
            "text/plain": [
              "<Figure size 432x288 with 1 Axes>"
            ]
          },
          "metadata": {
            "tags": []
          }
        },
        {
          "output_type": "display_data",
          "data": {
            "image/png": "[encoded data removed]",
            "text/plain": [
              "<Figure size 432x288 with 1 Axes>"
            ]
          },
          "metadata": {
            "tags": []
          }
        },
        {
          "output_type": "display_data",
          "data": {
            "text/plain": [
              "<Figure size 432x288 with 0 Axes>"
            ]
          },
          "metadata": {
            "tags": []
          }
        }
      ]
    }
  ]
}