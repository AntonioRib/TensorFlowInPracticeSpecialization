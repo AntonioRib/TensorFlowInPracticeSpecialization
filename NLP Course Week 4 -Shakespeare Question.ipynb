{
  "nbformat": 4,
  "nbformat_minor": 0,
  "metadata": {
    "colab": {
      "name": "NLP-Week4-Exercise-Shakespeare-Question.ipynb",
      "version": "0.3.2",
      "provenance": []
    },
    "kernelspec": {
      "name": "python3",
      "display_name": "Python 3"
    },
    "accelerator": "GPU"
  },
  "cells": [
    {
      "cell_type": "code",
      "metadata": {
        "id": "BOwsuGQQY9OL",
        "colab_type": "code",
        "colab": {}
      },
      "source": [
        "from tensorflow.keras.preprocessing.sequence import pad_sequences\n",
        "from tensorflow.keras.layers import Embedding, LSTM, Dense, Dropout, Bidirectional\n",
        "from tensorflow.keras.preprocessing.text import Tokenizer\n",
        "from tensorflow.keras.models import Sequential\n",
        "from tensorflow.keras.optimizers import Adam\n",
        "from tensorflow.keras import regularizers\n",
        "import tensorflow.keras.utils as ku \n",
        "import numpy as np "
      ],
      "execution_count": 0,
      "outputs": []
    },
    {
      "cell_type": "code",
      "metadata": {
        "colab_type": "code",
        "id": "PRnDnCW-Z7qv",
        "colab": {}
      },
      "source": [
        "tokenizer = Tokenizer()\n",
        "# !wget --no-check-certificate \\\n",
        "#     https://storage.googleapis.com/laurencemoroney-blog.appspot.com/sonnets.txt \\\n",
        "#     -O /tmp/sonnets.txt\n",
        "data = open('/tmp/sonnets.txt').read()\n",
        "\n",
        "corpus = data.lower().split(\"\\n\")\n",
        "\n",
        "\n",
        "tokenizer.fit_on_texts(corpus)\n",
        "total_words = len(tokenizer.word_index) + 1\n",
        "\n",
        "# create input sequences using list of tokens\n",
        "input_sequences = []\n",
        "for line in corpus:\n",
        "\ttoken_list = tokenizer.texts_to_sequences([line])[0]\n",
        "\tfor i in range(1, len(token_list)):\n",
        "\t\tn_gram_sequence = token_list[:i+1]\n",
        "\t\tinput_sequences.append(n_gram_sequence)\n",
        "\n",
        "# pad sequences \n",
        "max_sequence_len = max([len(x) for x in input_sequences])\n",
        "input_sequences = np.array(pad_sequences(input_sequences, maxlen=max_sequence_len, padding='pre'))\n",
        "\n",
        "# create predictors and label\n",
        "predictors, label = input_sequences[:,:-1],input_sequences[:,-1]\n",
        "\n",
        "label = ku.to_categorical(label, num_classes=total_words)"
      ],
      "execution_count": 0,
      "outputs": []
    },
    {
      "cell_type": "code",
      "metadata": {
        "id": "w9vH8Y59ajYL",
        "colab_type": "code",
        "colab": {
          "base_uri": "https://localhost:8080/",
          "height": 374
        },
        "outputId": "4bdb75af-41b8-4fea-c9d3-5cbdd5efdc87"
      },
      "source": [
        "model = Sequential()\n",
        "model.add(Embedding(total_words, 100, input_length=max_sequence_len-1))\n",
        "model.add(Bidirectional(LSTM(150, return_sequences=True)))\n",
        "model.add(Dropout(0.2))\n",
        "model.add(LSTM(100))\n",
        "model.add(Dense(total_words/2, activation='relu', kernel_regularizer=regularizers.l2(0.01)))\n",
        "model.add(Dense(total_words, activation='softmax'))\n",
        "# Pick an optimizer\n",
        "model.compile(loss='categorical_crossentropy', optimizer='adam', metrics=['accuracy'])\n",
        "print(model.summary())\n"
      ],
      "execution_count": 6,
      "outputs": [
        {
          "output_type": "stream",
          "text": [
            "Model: \"sequential_2\"\n",
            "_________________________________________________________________\n",
            "Layer (type)                 Output Shape              Param #   \n",
            "=================================================================\n",
            "embedding_2 (Embedding)      (None, 10, 100)           321100    \n",
            "_________________________________________________________________\n",
            "bidirectional_1 (Bidirection (None, 10, 300)           301200    \n",
            "_________________________________________________________________\n",
            "dropout_1 (Dropout)          (None, 10, 300)           0         \n",
            "_________________________________________________________________\n",
            "lstm_2 (LSTM)                (None, 100)               160400    \n",
            "_________________________________________________________________\n",
            "dense (Dense)                (None, 1605)              162105    \n",
            "_________________________________________________________________\n",
            "dense_1 (Dense)              (None, 3211)              5156866   \n",
            "=================================================================\n",
            "Total params: 6,101,671\n",
            "Trainable params: 6,101,671\n",
            "Non-trainable params: 0\n",
            "_________________________________________________________________\n",
            "None\n"
          ],
          "name": "stdout"
        }
      ]
    },
    {
      "cell_type": "code",
      "metadata": {
        "id": "AIg2f1HBxqof",
        "colab_type": "code",
        "colab": {
          "base_uri": "https://localhost:8080/",
          "height": 1000
        },
        "outputId": "044ba529-a10a-4b7d-8f32-434d3299d186"
      },
      "source": [
        " history = model.fit(predictors, label, epochs=100, verbose=1)"
      ],
      "execution_count": 22,
      "outputs": [
        {
          "output_type": "stream",
          "text": [
            "Epoch 1/100\n",
            "15462/15462 [==============================] - 39s 3ms/sample - loss: 6.3348 - acc: 0.0269\n",
            "Epoch 2/100\n",
            "15462/15462 [==============================] - 41s 3ms/sample - loss: 6.2310 - acc: 0.0310\n",
            "Epoch 3/100\n",
            "15462/15462 [==============================] - 41s 3ms/sample - loss: 6.1535 - acc: 0.0369\n",
            "Epoch 4/100\n",
            "15462/15462 [==============================] - 41s 3ms/sample - loss: 6.0708 - acc: 0.0395\n",
            "Epoch 5/100\n",
            "15462/15462 [==============================] - 41s 3ms/sample - loss: 5.9848 - acc: 0.0419\n",
            "Epoch 6/100\n",
            "15462/15462 [==============================] - 41s 3ms/sample - loss: 5.8788 - acc: 0.0483\n",
            "Epoch 7/100\n",
            "15462/15462 [==============================] - 41s 3ms/sample - loss: 5.7578 - acc: 0.0548\n",
            "Epoch 8/100\n",
            "15462/15462 [==============================] - 41s 3ms/sample - loss: 5.6376 - acc: 0.0621\n",
            "Epoch 9/100\n",
            "15462/15462 [==============================] - 41s 3ms/sample - loss: 5.5269 - acc: 0.0698\n",
            "Epoch 10/100\n",
            "15462/15462 [==============================] - 40s 3ms/sample - loss: 5.4171 - acc: 0.0746\n",
            "Epoch 11/100\n",
            "15462/15462 [==============================] - 40s 3ms/sample - loss: 5.3062 - acc: 0.0841\n",
            "Epoch 12/100\n",
            "15462/15462 [==============================] - 41s 3ms/sample - loss: 5.2089 - acc: 0.0886\n",
            "Epoch 13/100\n",
            "15462/15462 [==============================] - 40s 3ms/sample - loss: 5.1020 - acc: 0.0965\n",
            "Epoch 14/100\n",
            "15462/15462 [==============================] - 41s 3ms/sample - loss: 5.0018 - acc: 0.1034\n",
            "Epoch 15/100\n",
            "15462/15462 [==============================] - 41s 3ms/sample - loss: 4.9021 - acc: 0.1116\n",
            "Epoch 16/100\n",
            "15462/15462 [==============================] - 40s 3ms/sample - loss: 4.7996 - acc: 0.1202\n",
            "Epoch 17/100\n",
            "15462/15462 [==============================] - 40s 3ms/sample - loss: 4.7001 - acc: 0.1293\n",
            "Epoch 18/100\n",
            "15462/15462 [==============================] - 40s 3ms/sample - loss: 4.5978 - acc: 0.1389\n",
            "Epoch 19/100\n",
            "15462/15462 [==============================] - 40s 3ms/sample - loss: 4.4959 - acc: 0.1535\n",
            "Epoch 20/100\n",
            "15462/15462 [==============================] - 40s 3ms/sample - loss: 4.3976 - acc: 0.1620\n",
            "Epoch 21/100\n",
            "15462/15462 [==============================] - 40s 3ms/sample - loss: 4.3002 - acc: 0.1722\n",
            "Epoch 22/100\n",
            "15462/15462 [==============================] - 40s 3ms/sample - loss: 4.1958 - acc: 0.1867\n",
            "Epoch 23/100\n",
            "15462/15462 [==============================] - 40s 3ms/sample - loss: 4.0993 - acc: 0.2002\n",
            "Epoch 24/100\n",
            "15462/15462 [==============================] - 40s 3ms/sample - loss: 3.9992 - acc: 0.2153\n",
            "Epoch 25/100\n",
            "15462/15462 [==============================] - 40s 3ms/sample - loss: 3.8968 - acc: 0.2314\n",
            "Epoch 26/100\n",
            "15462/15462 [==============================] - 40s 3ms/sample - loss: 3.8163 - acc: 0.2474\n",
            "Epoch 27/100\n",
            "15462/15462 [==============================] - 41s 3ms/sample - loss: 3.7151 - acc: 0.2626\n",
            "Epoch 28/100\n",
            "15462/15462 [==============================] - 41s 3ms/sample - loss: 3.6215 - acc: 0.2793\n",
            "Epoch 29/100\n",
            "15462/15462 [==============================] - 41s 3ms/sample - loss: 3.5341 - acc: 0.2991\n",
            "Epoch 30/100\n",
            "15462/15462 [==============================] - 40s 3ms/sample - loss: 3.4481 - acc: 0.3186\n",
            "Epoch 31/100\n",
            "15462/15462 [==============================] - 40s 3ms/sample - loss: 3.3605 - acc: 0.3349\n",
            "Epoch 32/100\n",
            "15462/15462 [==============================] - 41s 3ms/sample - loss: 3.2876 - acc: 0.3506\n",
            "Epoch 33/100\n",
            "15462/15462 [==============================] - 40s 3ms/sample - loss: 3.1994 - acc: 0.3652\n",
            "Epoch 34/100\n",
            "15462/15462 [==============================] - 40s 3ms/sample - loss: 3.1125 - acc: 0.3890\n",
            "Epoch 35/100\n",
            "15462/15462 [==============================] - 40s 3ms/sample - loss: 3.0443 - acc: 0.4021\n",
            "Epoch 36/100\n",
            "15462/15462 [==============================] - 40s 3ms/sample - loss: 2.9667 - acc: 0.4192\n",
            "Epoch 37/100\n",
            "15462/15462 [==============================] - 40s 3ms/sample - loss: 2.9085 - acc: 0.4345\n",
            "Epoch 38/100\n",
            "15462/15462 [==============================] - 40s 3ms/sample - loss: 2.8481 - acc: 0.4457\n",
            "Epoch 39/100\n",
            "15462/15462 [==============================] - 41s 3ms/sample - loss: 2.7705 - acc: 0.4699\n",
            "Epoch 40/100\n",
            "15462/15462 [==============================] - 40s 3ms/sample - loss: 2.7136 - acc: 0.4756\n",
            "Epoch 41/100\n",
            "15462/15462 [==============================] - 40s 3ms/sample - loss: 2.6471 - acc: 0.4910\n",
            "Epoch 42/100\n",
            "15462/15462 [==============================] - 40s 3ms/sample - loss: 2.5943 - acc: 0.5039\n",
            "Epoch 43/100\n",
            "15462/15462 [==============================] - 41s 3ms/sample - loss: 2.5283 - acc: 0.5188\n",
            "Epoch 44/100\n",
            "15462/15462 [==============================] - 41s 3ms/sample - loss: 2.4817 - acc: 0.5290\n",
            "Epoch 45/100\n",
            "15462/15462 [==============================] - 40s 3ms/sample - loss: 2.4381 - acc: 0.5435\n",
            "Epoch 46/100\n",
            "15462/15462 [==============================] - 40s 3ms/sample - loss: 2.3764 - acc: 0.5556\n",
            "Epoch 47/100\n",
            "15462/15462 [==============================] - 40s 3ms/sample - loss: 2.3293 - acc: 0.5639\n",
            "Epoch 48/100\n",
            "15462/15462 [==============================] - 40s 3ms/sample - loss: 2.2811 - acc: 0.5764\n",
            "Epoch 49/100\n",
            "15462/15462 [==============================] - 40s 3ms/sample - loss: 2.2303 - acc: 0.5913\n",
            "Epoch 50/100\n",
            "15462/15462 [==============================] - 40s 3ms/sample - loss: 2.2000 - acc: 0.5924\n",
            "Epoch 51/100\n",
            "15462/15462 [==============================] - 40s 3ms/sample - loss: 2.1456 - acc: 0.6033\n",
            "Epoch 52/100\n",
            "15462/15462 [==============================] - 40s 3ms/sample - loss: 2.1014 - acc: 0.6189\n",
            "Epoch 53/100\n",
            "15462/15462 [==============================] - 40s 3ms/sample - loss: 2.0789 - acc: 0.6213\n",
            "Epoch 54/100\n",
            "15462/15462 [==============================] - 40s 3ms/sample - loss: 2.0281 - acc: 0.6321\n",
            "Epoch 55/100\n",
            "15462/15462 [==============================] - 40s 3ms/sample - loss: 1.9934 - acc: 0.6383\n",
            "Epoch 56/100\n",
            "15462/15462 [==============================] - 40s 3ms/sample - loss: 1.9658 - acc: 0.6442\n",
            "Epoch 57/100\n",
            "15462/15462 [==============================] - 40s 3ms/sample - loss: 1.9198 - acc: 0.6569\n",
            "Epoch 58/100\n",
            "15462/15462 [==============================] - 40s 3ms/sample - loss: 1.8806 - acc: 0.6665\n",
            "Epoch 59/100\n",
            "15462/15462 [==============================] - 40s 3ms/sample - loss: 1.8467 - acc: 0.6682\n",
            "Epoch 60/100\n",
            "15462/15462 [==============================] - 40s 3ms/sample - loss: 1.8193 - acc: 0.6748\n",
            "Epoch 61/100\n",
            "15462/15462 [==============================] - 40s 3ms/sample - loss: 1.8105 - acc: 0.6794\n",
            "Epoch 62/100\n",
            "15462/15462 [==============================] - 40s 3ms/sample - loss: 1.7713 - acc: 0.6852\n",
            "Epoch 63/100\n",
            "15462/15462 [==============================] - 40s 3ms/sample - loss: 1.7291 - acc: 0.6983\n",
            "Epoch 64/100\n",
            "15462/15462 [==============================] - 40s 3ms/sample - loss: 1.7014 - acc: 0.7030\n",
            "Epoch 65/100\n",
            "15462/15462 [==============================] - 40s 3ms/sample - loss: 1.6816 - acc: 0.7029\n",
            "Epoch 66/100\n",
            "15462/15462 [==============================] - 40s 3ms/sample - loss: 1.6658 - acc: 0.7044\n",
            "Epoch 67/100\n",
            "15462/15462 [==============================] - 40s 3ms/sample - loss: 1.6329 - acc: 0.7171\n",
            "Epoch 68/100\n",
            "15462/15462 [==============================] - 40s 3ms/sample - loss: 1.6001 - acc: 0.7256\n",
            "Epoch 69/100\n",
            "15462/15462 [==============================] - 40s 3ms/sample - loss: 1.5855 - acc: 0.7257\n",
            "Epoch 70/100\n",
            "15462/15462 [==============================] - 40s 3ms/sample - loss: 1.5571 - acc: 0.7284\n",
            "Epoch 71/100\n",
            "15462/15462 [==============================] - 40s 3ms/sample - loss: 1.5377 - acc: 0.7315\n",
            "Epoch 72/100\n",
            "15462/15462 [==============================] - 40s 3ms/sample - loss: 1.5225 - acc: 0.7355\n",
            "Epoch 73/100\n",
            "15462/15462 [==============================] - 40s 3ms/sample - loss: 1.4917 - acc: 0.7447\n",
            "Epoch 74/100\n",
            "15462/15462 [==============================] - 40s 3ms/sample - loss: 1.4891 - acc: 0.7430\n",
            "Epoch 75/100\n",
            "15462/15462 [==============================] - 40s 3ms/sample - loss: 1.4459 - acc: 0.7478\n",
            "Epoch 76/100\n",
            "15462/15462 [==============================] - 40s 3ms/sample - loss: 1.4283 - acc: 0.7582\n",
            "Epoch 77/100\n",
            "15462/15462 [==============================] - 40s 3ms/sample - loss: 1.4266 - acc: 0.7555\n",
            "Epoch 78/100\n",
            "15462/15462 [==============================] - 40s 3ms/sample - loss: 1.4190 - acc: 0.7556\n",
            "Epoch 79/100\n",
            "15462/15462 [==============================] - 40s 3ms/sample - loss: 1.3869 - acc: 0.7636\n",
            "Epoch 80/100\n",
            "15462/15462 [==============================] - 40s 3ms/sample - loss: 1.3717 - acc: 0.7632\n",
            "Epoch 81/100\n",
            "15462/15462 [==============================] - 40s 3ms/sample - loss: 1.3580 - acc: 0.7683\n",
            "Epoch 82/100\n",
            "15462/15462 [==============================] - 40s 3ms/sample - loss: 1.3583 - acc: 0.7655\n",
            "Epoch 83/100\n",
            "15462/15462 [==============================] - 40s 3ms/sample - loss: 1.3332 - acc: 0.7720\n",
            "Epoch 84/100\n",
            "15462/15462 [==============================] - 40s 3ms/sample - loss: 1.3075 - acc: 0.7771\n",
            "Epoch 85/100\n",
            "15462/15462 [==============================] - 40s 3ms/sample - loss: 1.2889 - acc: 0.7800\n",
            "Epoch 86/100\n",
            "15462/15462 [==============================] - 40s 3ms/sample - loss: 1.2857 - acc: 0.7787\n",
            "Epoch 87/100\n",
            "15462/15462 [==============================] - 40s 3ms/sample - loss: 1.2795 - acc: 0.7808\n",
            "Epoch 88/100\n",
            "15462/15462 [==============================] - 40s 3ms/sample - loss: 1.2641 - acc: 0.7817\n",
            "Epoch 89/100\n",
            "15462/15462 [==============================] - 40s 3ms/sample - loss: 1.2602 - acc: 0.7829\n",
            "Epoch 90/100\n",
            "15462/15462 [==============================] - 40s 3ms/sample - loss: 1.2230 - acc: 0.7929\n",
            "Epoch 91/100\n",
            "15462/15462 [==============================] - 40s 3ms/sample - loss: 1.2234 - acc: 0.7877\n",
            "Epoch 92/100\n",
            "15462/15462 [==============================] - 40s 3ms/sample - loss: 1.2107 - acc: 0.7908\n",
            "Epoch 93/100\n",
            "15462/15462 [==============================] - 40s 3ms/sample - loss: 1.1964 - acc: 0.7958\n",
            "Epoch 94/100\n",
            "15462/15462 [==============================] - 40s 3ms/sample - loss: 1.1822 - acc: 0.7956\n",
            "Epoch 95/100\n",
            "15462/15462 [==============================] - 40s 3ms/sample - loss: 1.2020 - acc: 0.7892\n",
            "Epoch 96/100\n",
            "15462/15462 [==============================] - 40s 3ms/sample - loss: 1.1836 - acc: 0.7932\n",
            "Epoch 97/100\n",
            "15462/15462 [==============================] - 40s 3ms/sample - loss: 1.1514 - acc: 0.8029\n",
            "Epoch 98/100\n",
            "15462/15462 [==============================] - 40s 3ms/sample - loss: 1.1469 - acc: 0.8009\n",
            "Epoch 99/100\n",
            "15462/15462 [==============================] - 40s 3ms/sample - loss: 1.1326 - acc: 0.8046\n",
            "Epoch 100/100\n",
            "15462/15462 [==============================] - 40s 3ms/sample - loss: 1.1325 - acc: 0.8014\n"
          ],
          "name": "stdout"
        }
      ]
    },
    {
      "cell_type": "code",
      "metadata": {
        "id": "1fXTEO3GJ282",
        "colab_type": "code",
        "colab": {
          "base_uri": "https://localhost:8080/",
          "height": 545
        },
        "outputId": "c8483dd8-0360-41ab-d3d1-e6f96b255f4b"
      },
      "source": [
        "import matplotlib.pyplot as plt\n",
        "acc = history.history['acc']\n",
        "loss = history.history['loss']\n",
        "\n",
        "epochs = range(len(acc))\n",
        "\n",
        "plt.plot(epochs, acc, 'b', label='Training accuracy')\n",
        "plt.title('Training accuracy')\n",
        "\n",
        "plt.figure()\n",
        "\n",
        "plt.plot(epochs, loss, 'b', label='Training Loss')\n",
        "plt.title('Training loss')\n",
        "plt.legend()\n",
        "\n",
        "plt.show()"
      ],
      "execution_count": 23,
      "outputs": [
        {
          "output_type": "display_data",
          "data": {
            "image/png": "[encoded data removed]",
            "text/plain": [
              "<Figure size 432x288 with 1 Axes>"
            ]
          },
          "metadata": {
            "tags": []
          }
        },
        {
          "output_type": "display_data",
          "data": {
            "image/png": "[encoded data removed]",
            "text/plain": [
              "<Figure size 432x288 with 1 Axes>"
            ]
          },
          "metadata": {
            "tags": []
          }
        }
      ]
    },
    {
      "cell_type": "code",
      "metadata": {
        "id": "6Vc6PHgxa6Hm",
        "colab_type": "code",
        "colab": {
          "base_uri": "https://localhost:8080/",
          "height": 54
        },
        "outputId": "a9dc0d54-cfa7-47a8-a95d-4cc9a2a255fe"
      },
      "source": [
        "seed_text = \"Help me Obi Wan Kenobi, you're my only hope\"\n",
        "next_words = 100\n",
        "  \n",
        "for _ in range(next_words):\n",
        "\ttoken_list = tokenizer.texts_to_sequences([seed_text])[0]\n",
        "\ttoken_list = pad_sequences([token_list], maxlen=max_sequence_len-1, padding='pre')\n",
        "\tpredicted = model.predict_classes(token_list, verbose=0)\n",
        "\toutput_word = \"\"\n",
        "\tfor word, index in tokenizer.word_index.items():\n",
        "\t\tif index == predicted:\n",
        "\t\t\toutput_word = word\n",
        "\t\t\tbreak\n",
        "\tseed_text += \" \" + output_word\n",
        "print(seed_text)"
      ],
      "execution_count": 31,
      "outputs": [
        {
          "output_type": "stream",
          "text": [
            "Help me Obi Wan Kenobi, you're my only hope tied will so strong living report new express'd stay express'd forgot away a several vainly point history sky held taken torn torn room green thee dead green me am myself they refusest cry point can taken taken wind remain shown twain twain green me green thee long long enrich thy sport clearer light survey survey torn torn torn strife back so green thee long takes thee by your pupil pen graced be cross shown thee committed cured devise gone ere such old sun decays ride ride rare rare cross room room expire free green thee we green thee thence such\n"
          ],
          "name": "stdout"
        }
      ]
    }
  ]
}